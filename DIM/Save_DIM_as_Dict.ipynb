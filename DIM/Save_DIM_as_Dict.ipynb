{
 "cells": [
  {
   "cell_type": "code",
   "execution_count": 6,
   "metadata": {},
   "outputs": [],
   "source": [
    "import scipy.io as sio\n",
    "import pickle"
   ]
  },
  {
   "cell_type": "code",
   "execution_count": 3,
   "metadata": {},
   "outputs": [],
   "source": [
    "def load_DIM_data(filename='DIM_data.mat'):\n",
    "    # INPUT:\n",
    "    # data_path - path to DIM_data.mat\n",
    "    # OUTPUT:\n",
    "    # data_dic - dictionary of structure data\n",
    "    \n",
    "    data = sio.loadmat(filename,squeeze_me=True)['data_subset']\n",
    "    fields = data.dtype.names\n",
    "    \n",
    "    data_dict = {}\n",
    "    \n",
    "    for i in range(0, data.shape[0]):\n",
    "        data_dict[i] = {} # Pre-allocate space\n",
    "        for j in fields:\n",
    "            data_dict[i].update({j:data[i][j]}) # Add in fields\n",
    "\n",
    "    return data_dict"
   ]
  },
  {
   "cell_type": "code",
   "execution_count": 4,
   "metadata": {},
   "outputs": [],
   "source": [
    "DIM_data = load_DIM_data()"
   ]
  },
  {
   "cell_type": "code",
   "execution_count": 7,
   "metadata": {},
   "outputs": [],
   "source": [
    "# Save/load:\n",
    "with open('DIM_data.pkl', 'wb') as f:\n",
    "    pickle.dump(DIM_data, f)\n",
    "# with open('DIM_data.pkl', 'rb') as f:\n",
    "#     DIM_data = pickle.load(f)"
   ]
  },
  {
   "cell_type": "code",
   "execution_count": null,
   "metadata": {},
   "outputs": [],
   "source": []
  }
 ],
 "metadata": {
  "kernelspec": {
   "display_name": "Python 3",
   "language": "python",
   "name": "python3"
  },
  "language_info": {
   "codemirror_mode": {
    "name": "ipython",
    "version": 3
   },
   "file_extension": ".py",
   "mimetype": "text/x-python",
   "name": "python",
   "nbconvert_exporter": "python",
   "pygments_lexer": "ipython3",
   "version": "3.6.5"
  }
 },
 "nbformat": 4,
 "nbformat_minor": 2
}
